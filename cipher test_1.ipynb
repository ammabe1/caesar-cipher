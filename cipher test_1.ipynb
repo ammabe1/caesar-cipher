{
 "cells": [
  {
   "cell_type": "code",
   "execution_count": null,
   "id": "50d28f91-5196-4294-962f-3ce5503ad390",
   "metadata": {},
   "outputs": [
    {
     "name": "stdout",
     "output_type": "stream",
     "text": [
      "ymnx nx rd fyyruy fy hfjxfw hnumjw\n"
     ]
    }
   ],
   "source": [
    "abc = \"abcdefghijklmnopqrstuvwxyz\"\n",
    "\n",
    "shft = int(input(\"Please enter the number of places to shift: \"))\n",
    "pln_txt = input (\"Please enter a sentence: \")\n",
    "pln_txt = pln_txt.lower()\n",
    "\n",
    "cipher_txt = \"\"\n",
    "\n",
    "for char in pln_txt:\n",
    "    if char in abc:\n",
    "        char_index = abc.find(char)\n",
    "        char_index = (char_index + shft) % 26\n",
    "        char = abc[char_index]\n",
    "    cipher_txt += char\n",
    "    \n",
    "print(cipher_txt)"
   ]
  }
 ],
 "metadata": {
  "language_info": {
   "codemirror_mode": {
    "name": "ipython",
    "version": 3
   },
   "file_extension": ".py",
   "mimetype": "text/x-python",
   "name": "python",
   "nbconvert_exporter": "python",
   "pygments_lexer": "ipython3",
   "version": 3
  }
 },
 "nbformat": 4,
 "nbformat_minor": 2
}
