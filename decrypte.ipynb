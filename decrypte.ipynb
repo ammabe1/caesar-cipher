{
 "cells": [
  {
   "cell_type": "markdown",
   "metadata": {},
   "source": [
    "#Decrypte trial for caesar cipher"
   ]
  },
  {
   "cell_type": "code",
   "execution_count": 1,
   "metadata": {},
   "outputs": [
    {
     "name": "stdout",
     "output_type": "stream",
     "text": [
      "Your ciphertext is:  t with negative shift of 5\n",
      "Your ciphertext is:  th with negative shift of 5\n",
      "Your ciphertext is:  thi with negative shift of 5\n",
      "Your ciphertext is:  this with negative shift of 5\n",
      "Your ciphertext is:  thiss with negative shift of 5\n",
      "Your ciphertext is:  thissi with negative shift of 5\n",
      "Your ciphertext is:  thissis with negative shift of 5\n",
      "Your ciphertext is:  thississ with negative shift of 5\n",
      "Your ciphertext is:  thississm with negative shift of 5\n",
      "Your ciphertext is:  thississm_ with negative shift of 5\n",
      "Your ciphertext is:  thississm__ with negative shift of 5\n",
      "Your ciphertext is:  thississm__a with negative shift of 5\n",
      "Your ciphertext is:  thississm__at with negative shift of 5\n",
      "Your ciphertext is:  thississm__att with negative shift of 5\n",
      "Your ciphertext is:  thississm__attm with negative shift of 5\n",
      "Your ciphertext is:  thississm__attmp with negative shift of 5\n",
      "Your ciphertext is:  thississm__attmpt with negative shift of 5\n",
      "Your ciphertext is:  thississm__attmptt with negative shift of 5\n",
      "Your ciphertext is:  thississm__attmptta with negative shift of 5\n",
      "Your ciphertext is:  thississm__attmpttat with negative shift of 5\n",
      "Your ciphertext is:  thississm__attmpttatt with negative shift of 5\n",
      "Your ciphertext is:  thississm__attmpttattc with negative shift of 5\n",
      "Your ciphertext is:  thississm__attmpttattca with negative shift of 5\n",
      "Your ciphertext is:  thississm__attmpttattcae with negative shift of 5\n",
      "Your ciphertext is:  thississm__attmpttattcaes with negative shift of 5\n",
      "Your ciphertext is:  thississm__attmpttattcaesa with negative shift of 5\n",
      "Your ciphertext is:  thississm__attmpttattcaesar with negative shift of 5\n",
      "Your ciphertext is:  thississm__attmpttattcaesarr with negative shift of 5\n",
      "Your ciphertext is:  thississm__attmpttattcaesarrc with negative shift of 5\n",
      "Your ciphertext is:  thississm__attmpttattcaesarrci with negative shift of 5\n",
      "Your ciphertext is:  thississm__attmpttattcaesarrcip with negative shift of 5\n",
      "Your ciphertext is:  thississm__attmpttattcaesarrciph with negative shift of 5\n",
      "Your ciphertext is:  thississm__attmpttattcaesarrciphe with negative shift of 5\n",
      "Your ciphertext is:  thississm__attmpttattcaesarrcipher with negative shift of 5\n"
     ]
    }
   ],
   "source": [
    "#decrypte \n",
    "encryption=input(\"enter in your encrypted code\")\n",
    "encryption_shift=int(input(\"enter in your encryption shift\"))\n",
    "\n",
    "cipherText1 = \"\"\n",
    "for c in encryption:\n",
    "    if c.isalpha():\n",
    "        stayInAlphabet1 = ord(c) - encryption_shift\n",
    "    if stayInAlphabet1 > ord('z'):\n",
    "        stayInAlphabet1 += 26\n",
    "    finalLetter1 = chr(stayInAlphabet1)\n",
    "    cipherText1 += finalLetter1\n",
    "\n",
    "    print (\"Your ciphertext is: \", cipherText1,\"with negative shift of\",encryption_shift)"
   ]
  },
  {
   "cell_type": "code",
   "execution_count": 1,
   "metadata": {},
   "outputs": [
    {
     "name": "stdout",
     "output_type": "stream",
     "text": [
      "this is my attmpt at caesar cipher\n"
     ]
    }
   ],
   "source": [
    "abc = \"abcdefghijklmnopqrstuvwxyz\"\n",
    "\n",
    "# Input the shift and the encrypted sentence (cipher text)\n",
    "shft = int(input(\"Please enter the number of places to shift: \"))\n",
    "cipher_txt = input(\"Please enter the encrypted sentence: \")\n",
    "cipher_txt = cipher_txt.lower()\n",
    "\n",
    "# Variable to store the decrypted text\n",
    "pln_txt = \"\"\n",
    "\n",
    "# Loop through each character in the cipher text\n",
    "for char in cipher_txt:\n",
    "    if char in abc:\n",
    "        # Find the index of the character in the alphabet\n",
    "        char_index = abc.find(char)\n",
    "        \n",
    "        # Subtract the shift (to decrypt) and wrap around using modulus\n",
    "        char_index = (char_index - shft) % 26\n",
    "        \n",
    "        # Get the corresponding character for the new index\n",
    "        char = abc[char_index]\n",
    "        \n",
    "    # Append the decrypted character to the result string\n",
    "    pln_txt += char\n",
    "\n",
    "# Print the decrypted sentence\n",
    "print(pln_txt)"
   ]
  }
 ],
 "metadata": {
  "kernelspec": {
   "display_name": "Python 3",
   "language": "python",
   "name": "python3"
  },
  "language_info": {
   "codemirror_mode": {
    "name": "ipython",
    "version": 3
   },
   "file_extension": ".py",
   "mimetype": "text/x-python",
   "name": "python",
   "nbconvert_exporter": "python",
   "pygments_lexer": "ipython3",
   "version": "3.11.9"
  }
 },
 "nbformat": 4,
 "nbformat_minor": 2
}
