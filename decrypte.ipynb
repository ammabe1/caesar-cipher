{
 "cells": [
  {
   "cell_type": "markdown",
   "metadata": {},
   "source": [
    "#Decrypte trial for caesar cipher"
   ]
  },
  {
   "cell_type": "code",
   "execution_count": 1,
   "metadata": {},
   "outputs": [
    {
     "name": "stdout",
     "output_type": "stream",
     "text": [
      "Your ciphertext is:  t with negative shift of 5\n",
      "Your ciphertext is:  th with negative shift of 5\n",
      "Your ciphertext is:  thi with negative shift of 5\n",
      "Your ciphertext is:  this with negative shift of 5\n",
      "Your ciphertext is:  thiss with negative shift of 5\n",
      "Your ciphertext is:  thissi with negative shift of 5\n",
      "Your ciphertext is:  thissis with negative shift of 5\n",
      "Your ciphertext is:  thississ with negative shift of 5\n",
      "Your ciphertext is:  thississm with negative shift of 5\n",
      "Your ciphertext is:  thississm_ with negative shift of 5\n",
      "Your ciphertext is:  thississm__ with negative shift of 5\n",
      "Your ciphertext is:  thississm__a with negative shift of 5\n",
      "Your ciphertext is:  thississm__at with negative shift of 5\n",
      "Your ciphertext is:  thississm__att with negative shift of 5\n",
      "Your ciphertext is:  thississm__attm with negative shift of 5\n",
      "Your ciphertext is:  thississm__attmp with negative shift of 5\n",
      "Your ciphertext is:  thississm__attmpt with negative shift of 5\n",
      "Your ciphertext is:  thississm__attmptt with negative shift of 5\n",
      "Your ciphertext is:  thississm__attmptta with negative shift of 5\n",
      "Your ciphertext is:  thississm__attmpttat with negative shift of 5\n",
      "Your ciphertext is:  thississm__attmpttatt with negative shift of 5\n",
      "Your ciphertext is:  thississm__attmpttattc with negative shift of 5\n",
      "Your ciphertext is:  thississm__attmpttattca with negative shift of 5\n",
      "Your ciphertext is:  thississm__attmpttattcae with negative shift of 5\n",
      "Your ciphertext is:  thississm__attmpttattcaes with negative shift of 5\n",
      "Your ciphertext is:  thississm__attmpttattcaesa with negative shift of 5\n",
      "Your ciphertext is:  thississm__attmpttattcaesar with negative shift of 5\n",
      "Your ciphertext is:  thississm__attmpttattcaesarr with negative shift of 5\n",
      "Your ciphertext is:  thississm__attmpttattcaesarrc with negative shift of 5\n",
      "Your ciphertext is:  thississm__attmpttattcaesarrci with negative shift of 5\n",
      "Your ciphertext is:  thississm__attmpttattcaesarrcip with negative shift of 5\n",
      "Your ciphertext is:  thississm__attmpttattcaesarrciph with negative shift of 5\n",
      "Your ciphertext is:  thississm__attmpttattcaesarrciphe with negative shift of 5\n",
      "Your ciphertext is:  thississm__attmpttattcaesarrcipher with negative shift of 5\n"
     ]
    }
   ],
   "source": [
    "#decrypte \n",
    "encryption=input(\"enter in your encrypted code\")\n",
    "encryption_shift=int(input(\"enter in your encryption shift\"))\n",
    "\n",
    "cipherText1 = \"\"\n",
    "for c in encryption:\n",
    "    if c.isalpha():\n",
    "        stayInAlphabet1 = ord(c) - encryption_shift\n",
    "    if stayInAlphabet1 > ord('z'):\n",
    "        stayInAlphabet1 += 26\n",
    "    finalLetter1 = chr(stayInAlphabet1)\n",
    "    cipherText1 += finalLetter1\n",
    "\n",
    "    print (\"Your ciphertext is: \", cipherText1,\"with negative shift of\",encryption_shift)"
   ]
  }
 ],
 "metadata": {
  "kernelspec": {
   "display_name": "Python 3",
   "language": "python",
   "name": "python3"
  },
  "language_info": {
   "codemirror_mode": {
    "name": "ipython",
    "version": 3
   },
   "file_extension": ".py",
   "mimetype": "text/x-python",
   "name": "python",
   "nbconvert_exporter": "python",
   "pygments_lexer": "ipython3",
   "version": "3.11.9"
  }
 },
 "nbformat": 4,
 "nbformat_minor": 2
}
